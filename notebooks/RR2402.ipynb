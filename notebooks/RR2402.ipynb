{
 "cells": [
  {
   "cell_type": "markdown",
   "id": "48a6ed08-cdcd-43a3-888f-e8938a967e90",
   "metadata": {},
   "source": [
    "# Example: RR2402\n",
    "This is an example that creates cruise tracks for [RR2402](https://doi.org/10.7284/910464). \n",
    "\n",
    "We'll start with package imports..."
   ]
  },
  {
   "cell_type": "code",
   "execution_count": 4,
   "id": "d5502d5a-1943-4013-8e5f-6f6d5bbab084",
   "metadata": {},
   "outputs": [],
   "source": [
    "from datetime import datetime as dt\n",
    "import pandas as pd\n",
    "import openspace_rvdata.r2r2df as r2r\n",
    "\n",
    "import logging\n",
    "logger = logging.getLogger(__name__)"
   ]
  },
  {
   "cell_type": "markdown",
   "id": "080f0e6b-ae19-418a-99cc-00f8bf03a290",
   "metadata": {},
   "source": [
    "## Pull data from R2R\n",
    "The first step is to pull data using the [R2R API](https://www.rvdata.us/about/technical-details/services/api) and generate a dataframe. We'll actually generate two: `df` for the data and `mdf` for metadata."
   ]
  },
  {
   "cell_type": "code",
   "execution_count": 7,
   "id": "90571532-368f-4be1-b09c-3c4b49a66347",
   "metadata": {},
   "outputs": [
    {
     "data": {
      "text/html": [
       "<div>\n",
       "<style scoped>\n",
       "    .dataframe tbody tr th:only-of-type {\n",
       "        vertical-align: middle;\n",
       "    }\n",
       "\n",
       "    .dataframe tbody tr th {\n",
       "        vertical-align: top;\n",
       "    }\n",
       "\n",
       "    .dataframe thead th {\n",
       "        text-align: right;\n",
       "    }\n",
       "</style>\n",
       "<table border=\"1\" class=\"dataframe\">\n",
       "  <thead>\n",
       "    <tr style=\"text-align: right;\">\n",
       "      <th></th>\n",
       "      <th>cruise_id</th>\n",
       "      <th>cruise_name</th>\n",
       "      <th>cruise_type</th>\n",
       "      <th>cruise_url</th>\n",
       "      <th>cruise_doi</th>\n",
       "      <th>is_registered</th>\n",
       "      <th>vessel_ices_code</th>\n",
       "      <th>vessel_id</th>\n",
       "      <th>vessel_name</th>\n",
       "      <th>vessel_shortname</th>\n",
       "      <th>...</th>\n",
       "      <th>is_ingmrt</th>\n",
       "      <th>is_blanket_release</th>\n",
       "      <th>vessel_acronym</th>\n",
       "      <th>longitude_min</th>\n",
       "      <th>longitude_max</th>\n",
       "      <th>latitude_min</th>\n",
       "      <th>latitude_max</th>\n",
       "      <th>cruise_reports</th>\n",
       "      <th>redirect_to_mgds</th>\n",
       "      <th>keyword_list</th>\n",
       "    </tr>\n",
       "  </thead>\n",
       "  <tbody>\n",
       "    <tr>\n",
       "      <th>0</th>\n",
       "      <td>RR2402</td>\n",
       "      <td>LTER: Ecosystem controls and multiple stressor...</td>\n",
       "      <td>op_science</td>\n",
       "      <td>None</td>\n",
       "      <td>10.7284/910464</td>\n",
       "      <td>True</td>\n",
       "      <td>33RR</td>\n",
       "      <td>Roger Revelle</td>\n",
       "      <td>Roger Revelle</td>\n",
       "      <td>Revelle</td>\n",
       "      <td>...</td>\n",
       "      <td>False</td>\n",
       "      <td>None</td>\n",
       "      <td>RR</td>\n",
       "      <td>-122.635105</td>\n",
       "      <td>-117.226487</td>\n",
       "      <td>31.447867</td>\n",
       "      <td>35.5792</td>\n",
       "      <td>None</td>\n",
       "      <td>False</td>\n",
       "      <td>[stukel, michaelrevellerr2402adcpadcphawaii uh...</td>\n",
       "    </tr>\n",
       "  </tbody>\n",
       "</table>\n",
       "<p>1 rows × 41 columns</p>\n",
       "</div>"
      ],
      "text/plain": [
       "  cruise_id                                        cruise_name cruise_type  \\\n",
       "0    RR2402  LTER: Ecosystem controls and multiple stressor...  op_science   \n",
       "\n",
       "  cruise_url      cruise_doi  is_registered vessel_ices_code      vessel_id  \\\n",
       "0       None  10.7284/910464           True             33RR  Roger Revelle   \n",
       "\n",
       "     vessel_name vessel_shortname  ... is_ingmrt is_blanket_release  \\\n",
       "0  Roger Revelle          Revelle  ...     False               None   \n",
       "\n",
       "  vessel_acronym longitude_min longitude_max latitude_min latitude_max  \\\n",
       "0             RR   -122.635105   -117.226487    31.447867      35.5792   \n",
       "\n",
       "  cruise_reports redirect_to_mgds  \\\n",
       "0           None            False   \n",
       "\n",
       "                                        keyword_list  \n",
       "0  [stukel, michaelrevellerr2402adcpadcphawaii uh...  \n",
       "\n",
       "[1 rows x 41 columns]"
      ]
     },
     "execution_count": 7,
     "metadata": {},
     "output_type": "execute_result"
    }
   ],
   "source": [
    "url = r2r.get_r2r_url(cruise_id = \"RR2402\")\n",
    "mdf = r2r.get_cruise_metadata(url)\n",
    "mdf"
   ]
  },
  {
   "cell_type": "markdown",
   "id": "6ec2e530-e4c2-40bc-9b5a-036b2ba7973a",
   "metadata": {},
   "source": [
    "## OpenSpace Asset Generation\n",
    "The [OpenSpace asset](https://docs.openspaceproject.com/releases-v0.20/creating-data-assets/asset-creation/assets.html#simple-example) we're creating has two parts: the keyframes (where the ship is) and the main asset file, which includes metadata about the mission. Both of these are in [Lua](https://www.lua.org/home.html), with the file suffix .asset."
   ]
  },
  {
   "cell_type": "markdown",
   "id": "22f357ec-5d22-43c6-940a-4fa265746f72",
   "metadata": {},
   "source": [
    "### Asset Generation from Dataframe"
   ]
  },
  {
   "cell_type": "markdown",
   "id": "f11f542a-2b72-4dea-bc4f-1d4a767d5ba8",
   "metadata": {},
   "source": [
    "### Keyframe Generation from Dataframe\n",
    "Each cruise gets its own keyframe asset."
   ]
  },
  {
   "cell_type": "code",
   "execution_count": null,
   "id": "eb531b16-b8dc-4ed0-9b7c-9906b9355381",
   "metadata": {},
   "outputs": [],
   "source": [
    "# df = pd.read_csv(\"temp/RR2402_1min.geoCSV\", comment = '#')\n",
    "# from datetime import datetime as dt\n",
    "# df['datetime'] = pd.to_datetime(df['iso_time'])\n",
    "# df.index = df['datetime']\n",
    "# df = df.resample(\"60min\").first()\n",
    "# df = df.reset_index(drop=True)\n",
    "# df.head()"
   ]
  },
  {
   "cell_type": "markdown",
   "id": "0c3257fe-5221-4469-80c5-0bfe21a08389",
   "metadata": {},
   "source": [
    "## Visualization Outside OpenSpace\n",
    "While we're at it, here are a couple of tools for visualizing ship trails that don't require OpenSpace."
   ]
  },
  {
   "cell_type": "markdown",
   "id": "ec147da9-7d98-4d70-a2c3-c179589b86c4",
   "metadata": {},
   "source": [
    "### Hypergram Visualization using Plotly Express\n",
    "[Plotly express](https://plotly.com/python/plotly-express/) makes it pretty straightforward to create HTML [hypergrams](https://worrydream.com/refs/Nelson_T_1974_-_Computer_Lib,_Dream_Machines.pdf). These can then be shared by email and opened locally in a browser, or embedded in a webpage."
   ]
  },
  {
   "cell_type": "code",
   "execution_count": null,
   "id": "eb76791b-ab8b-4bce-9f15-854dcbe13115",
   "metadata": {},
   "outputs": [],
   "source": []
  },
  {
   "cell_type": "markdown",
   "id": "ca98a94b-1d5a-47e2-83b0-29d797641999",
   "metadata": {},
   "source": [
    "### Create GEOJSON\n",
    "If we just want to visualize the path itself, and don't need it animated, we can use the geocsv2geojson.py code in this folder to generate a GeoJSON file, then drag and drop that directly into OpenSpace (or QGIS, or Marble, or another mapping program of your choice). It'll look like this:\n",
    "![image.png](attachment:544231ac-7dd6-4ae0-a497-a44965d851e1.png)"
   ]
  },
  {
   "cell_type": "code",
   "execution_count": null,
   "id": "dada71c8-271a-410a-b9f7-7c82bc805447",
   "metadata": {},
   "outputs": [],
   "source": []
  }
 ],
 "metadata": {
  "kernelspec": {
   "display_name": "Python 3 (ipykernel)",
   "language": "python",
   "name": "python3"
  },
  "language_info": {
   "codemirror_mode": {
    "name": "ipython",
    "version": 3
   },
   "file_extension": ".py",
   "mimetype": "text/x-python",
   "name": "python",
   "nbconvert_exporter": "python",
   "pygments_lexer": "ipython3",
   "version": "3.9.1"
  }
 },
 "nbformat": 4,
 "nbformat_minor": 5
}
