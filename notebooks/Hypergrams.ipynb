{
 "cells": [
  {
   "cell_type": "markdown",
   "id": "470f4be2-81b0-4acd-9978-48e03d7a0df6",
   "metadata": {},
   "source": [
    "# Hypergrams\n",
    "Here's some code to make interactive figures with plotly express. These aren't really relevant to OpenSpace (unless you want to open them in an embedded browser window) but they might come in handy if you want a lightweight interactive visualization that you can stick into a webpage or email to somebody."
   ]
  },
  {
   "cell_type": "code",
   "execution_count": 1,
   "id": "c5960d18-8ff2-46b1-9a8f-1db3f1155e7a",
   "metadata": {},
   "outputs": [],
   "source": [
    "import plotly.express as px\n",
    "\n",
    "from datetime import datetime as dt\n",
    "import pandas as pd\n",
    "import openspace_rvdata.r2r2df as r2r\n",
    "import openspace_rvdata.geocsv2geojson as g2g\n",
    "\n",
    "import logging\n",
    "logger = logging.getLogger(__name__)"
   ]
  },
  {
   "cell_type": "markdown",
   "id": "7959a420-33cb-4533-bfa3-4c1f1ebfc342",
   "metadata": {},
   "source": [
    "## Gantt Chart"
   ]
  },
  {
   "cell_type": "code",
   "execution_count": 3,
   "id": "eb7d212c-2767-464b-abce-b58e783eed15",
   "metadata": {},
   "outputs": [
    {
     "data": {
      "application/vnd.plotly.v1+json": {
       "config": {
        "plotlyServerURL": "https://plot.ly"
       },
       "data": [
        {
         "base": [
          "2023-05-23T00:00:00.000000000"
         ],
         "hovertemplate": "<b>%{hovertext}</b><br><br>depart_port_fullname=Albany, Australia<br>depart_date=%{base}<br>arrive_date=%{x}<br>arrive_port_fullname=%{y}<extra></extra>",
         "hovertext": [
          "NBP2304"
         ],
         "legendgroup": "Albany, Australia",
         "marker": {
          "color": "#636efa",
          "pattern": {
           "shape": ""
          }
         },
         "name": "Albany, Australia",
         "orientation": "h",
         "showlegend": true,
         "textposition": "auto",
         "type": "bar",
         "x": [
          3024000000
         ],
         "xaxis": "x",
         "y": [
          "Punta Arenas, Chile"
         ],
         "yaxis": "y"
        },
        {
         "base": [
          "2023-03-26T00:00:00.000000000",
          "2022-12-26T00:00:00.000000000",
          "2017-04-10T00:00:00.000000000",
          "2008-03-20T00:00:00.000000000",
          "2008-01-09T00:00:00.000000000",
          "2006-12-22T00:00:00.000000000",
          "2006-11-01T00:00:00.000000000",
          "2006-10-10T00:00:00.000000000",
          "2006-09-24T00:00:00.000000000",
          "2005-12-17T00:00:00.000000000",
          "2005-10-26T00:00:00.000000000",
          "2005-03-03T00:00:00.000000000",
          "2005-02-17T00:00:00.000000000",
          "2004-12-18T00:00:00.000000000",
          "2004-10-12T00:00:00.000000000",
          "2004-08-30T00:00:00.000000000",
          "2004-08-29T00:00:00.000000000",
          "2004-04-15T00:00:00.000000000",
          "2003-12-18T00:00:00.000000000",
          "2003-10-27T00:00:00.000000000",
          "2003-05-23T00:00:00.000000000",
          "2003-04-13T00:00:00.000000000",
          "2002-12-12T00:00:00.000000000",
          "2002-12-06T00:00:00.000000000",
          "1999-12-20T00:00:00.000000000",
          "1999-09-08T00:00:00.000000000",
          "1998-12-26T00:00:00.000000000",
          "1998-11-02T00:00:00.000000000",
          "1998-06-20T00:00:00.000000000",
          "1998-05-01T00:00:00.000000000",
          "1997-11-05T00:00:00.000000000",
          "1997-05-15T00:00:00.000000000",
          "1997-04-04T00:00:00.000000000",
          "1996-12-11T00:00:00.000000000",
          "1996-10-02T00:00:00.000000000",
          "1996-08-30T00:00:00.000000000",
          "1995-12-11T00:00:00.000000000",
          "1995-07-29T00:00:00.000000000",
          "1995-07-01T00:00:00.000000000",
          "1995-03-16T00:00:00.000000000",
          "1994-12-29T00:00:00.000000000",
          "1994-11-03T00:00:00.000000000"
         ],
         "hovertemplate": "<b>%{hovertext}</b><br><br>depart_port_fullname=Lyttelton, New Zealand<br>depart_date=%{base}<br>arrive_date=%{x}<br>arrive_port_fullname=%{y}<extra></extra>",
         "hovertext": [
          "NBP2303",
          "NBP2301",
          "NBP1704",
          "NBP0804",
          "NBP0801",
          "NBP0701",
          "NBP0608",
          "NBP0607C",
          "NBP0607B",
          "NBP0601",
          "NBP0508",
          "NBP0501B",
          "NBP0501A",
          "NBP0409",
          "NBP0408",
          "NBP0406A",
          "NBP0407",
          "NBP0403",
          "NBP0305A",
          "NBP0305",
          "NBP0304",
          "NBP0303",
          "NBP0209",
          "NBP0208",
          "NBP9909",
          "NBP9908A",
          "NBP9901",
          "NBP9807",
          "NBP9804",
          "NBP9803",
          "NBP9708",
          "NBP9704",
          "NBP9703",
          "NBP9606",
          "NBP9604A",
          "NBP9604",
          "NBP9508",
          "NBP9505",
          "NBP9504",
          "NBP9502",
          "NBP9407",
          "NBP9406"
         ],
         "legendgroup": "Lyttelton, New Zealand",
         "marker": {
          "color": "#EF553B",
          "pattern": {
           "shape": ""
          }
         },
         "name": "Lyttelton, New Zealand",
         "orientation": "h",
         "showlegend": true,
         "textposition": "auto",
         "type": "bar",
         "x": [
          3456000000,
          1728000000,
          5616000000,
          2160000000,
          1555200000,
          3283200000,
          3801600000,
          1209600000,
          1382400000,
          3801600000,
          4060800000,
          1728000000,
          1209600000,
          3283200000,
          4838400000,
          259200000,
          3110400000,
          2073600000,
          1209600000,
          1987200000,
          3456000000,
          2592000000,
          1728000000,
          432000000,
          4492800000,
          8899200000,
          3715200000,
          4147200000,
          2592000000,
          4320000000,
          3369600000,
          432000000,
          3196800000,
          2419200000,
          3196800000,
          2073600000,
          3196800000,
          4320000000,
          604800000,
          3628800000,
          3196800000,
          3974400000
         ],
         "xaxis": "x",
         "y": [
          "Albany, Australia",
          "McMurdo Station, Antarctica",
          "Lyttelton, New Zealand",
          "Punta Arenas, Chile",
          "McMurdo Station, Antarctica",
          "McMurdo Station, Antarctica",
          "Lyttelton, New Zealand",
          "Lyttelton, New Zealand",
          "Lyttelton, New Zealand",
          "McMurdo Station, Antarctica",
          "Lyttelton, New Zealand",
          "Punta Arenas, Chile",
          "Lyttelton, New Zealand",
          "McMurdo Station, Antarctica",
          "Lyttelton, New Zealand",
          "Auckland, New Zealand",
          "Auckland, New Zealand",
          "Punta Arenas, Chile",
          "McMurdo Station, Antarctica",
          "Lyttelton, New Zealand",
          "Dutch Harbor, Alaska",
          "Lyttelton, New Zealand",
          "McMurdo Station, Antarctica",
          "Lyttelton, New Zealand",
          "McMurdo Station, Antarctica",
          "Lyttelton, New Zealand",
          "McMurdo Station, Antarctica",
          "Lyttelton, New Zealand",
          "Punta Arenas, Chile",
          "Lyttelton, New Zealand",
          "McMurdo Station, Antarctica",
          "Auckland, New Zealand",
          "Lyttelton, New Zealand",
          "McMurdo Station, Antarctica",
          "McMurdo Station, Antarctica",
          "Lyttelton, New Zealand",
          "McMurdo Station, Antarctica",
          "Punta Arenas, Chile",
          "Auckland, New Zealand",
          "Hobart, Australia",
          "McMurdo Station, Antarctica",
          "Lyttelton, New Zealand"
         ],
         "yaxis": "y"
        },
        {
         "base": [
          "2023-01-16T00:00:00.000000000",
          "2017-01-23T00:00:00.000000000",
          "2015-01-23T00:00:00.000000000",
          "2013-02-13T00:00:00.000000000",
          "2012-02-11T00:00:00.000000000",
          "2011-01-19T00:00:00.000000000",
          "2008-02-22T00:00:00.000000000",
          "2008-01-30T00:00:00.000000000",
          "2007-02-03T00:00:00.000000000",
          "2006-02-03T00:00:00.000000000",
          "2006-01-31T00:00:00.000000000",
          "2005-01-28T00:00:00.000000000",
          "2004-02-23T00:00:00.000000000",
          "2004-01-19T00:00:00.000000000",
          "2004-01-05T00:00:00.000000000",
          "2003-02-25T00:00:00.000000000",
          "2003-02-20T00:00:00.000000000",
          "2003-02-02T00:00:00.000000000",
          "2003-01-05T00:00:00.000000000",
          "2000-02-15T00:00:00.000000000",
          "1999-02-12T00:00:00.000000000",
          "1998-02-25T00:00:00.000000000",
          "1998-01-16T00:00:00.000000000",
          "1997-12-20T00:00:00.000000000",
          "1997-02-15T00:00:00.000000000",
          "1997-01-13T00:00:00.000000000",
          "1996-11-11T00:00:00.000000000",
          "1996-02-22T00:00:00.000000000",
          "1996-01-21T00:00:00.000000000",
          "1995-02-07T00:00:00.000000000",
          "1994-02-14T00:00:00.000000000",
          "1994-01-21T00:00:00.000000000"
         ],
         "hovertemplate": "<b>%{hovertext}</b><br><br>depart_port_fullname=McMurdo Station, Antarctica<br>depart_date=%{base}<br>arrive_date=%{x}<br>arrive_port_fullname=%{y}<extra></extra>",
         "hovertext": [
          "NBP2302",
          "NBP1702",
          "NBP1502",
          "NBP1302",
          "NBP1202",
          "NBP1101",
          "NBP0803",
          "NBP0802",
          "NBP0702",
          "NBP0602",
          "NBP0601A",
          "NBP0501",
          "NBP0402",
          "NBP0401",
          "NBP0306",
          "NBP0302",
          "NBP0301B",
          "NBP0301A",
          "NBP0301",
          "NBP0001",
          "NBP9902",
          "NBP9802",
          "NBP9801",
          "NBP9709",
          "NBP9702",
          "NBP9701",
          "NBP9605",
          "NBP9602",
          "NBP9601",
          "NBP9501",
          "NBP9402",
          "NBP9401"
         ],
         "legendgroup": "McMurdo Station, Antarctica",
         "marker": {
          "color": "#00cc96",
          "pattern": {
           "shape": ""
          }
         },
         "name": "McMurdo Station, Antarctica",
         "orientation": "h",
         "showlegend": true,
         "textposition": "auto",
         "type": "bar",
         "x": [
          3715200000,
          3542400000,
          4838400000,
          4406400000,
          1382400000,
          2332800000,
          1900800000,
          1900800000,
          4320000000,
          1728000000,
          172800000,
          1555200000,
          3974400000,
          2592000000,
          1036800000,
          3888000000,
          172800000,
          1555200000,
          2160000000,
          3888000000,
          3542400000,
          3196800000,
          2937600000,
          1814400000,
          3196800000,
          2505600000,
          1641600000,
          3888000000,
          2592000000,
          2937600000,
          4320000000,
          1900800000
         ],
         "xaxis": "x",
         "y": [
          "Lyttelton, New Zealand",
          "McMurdo Station, Antarctica",
          "Hobart, Australia",
          "Punta Arenas, Chile",
          "Punta Arenas, Chile",
          "McMurdo Station, Antarctica",
          "Lyttelton, New Zealand",
          "McMurdo Station, Antarctica",
          "Punta Arenas, Chile",
          "Punta Arenas, Chile",
          "McMurdo Station, Antarctica",
          "Lyttelton, New Zealand",
          "Lyttelton, New Zealand",
          "McMurdo Station, Antarctica",
          "McMurdo Station, Antarctica",
          "Lyttelton, New Zealand",
          "McMurdo Station, Antarctica",
          "McMurdo Station, Antarctica",
          "McMurdo Station, Antarctica",
          "Punta Arenas, Chile",
          "Punta Arenas, Chile",
          "Lyttelton, New Zealand",
          "McMurdo Station, Antarctica",
          "McMurdo Station, Antarctica",
          "Lyttelton, New Zealand",
          "McMurdo Station, Antarctica",
          "Lyttelton, New Zealand",
          "Punta Arenas, Chile",
          "McMurdo Station, Antarctica",
          "Lyttelton, New Zealand",
          "Punta Arenas, Chile",
          "McMurdo Station, Antarctica"
         ],
         "yaxis": "y"
        },
        {
         "base": [
          "2022-05-19T00:00:00.000000000",
          "2022-01-06T00:00:00.000000000",
          "2021-11-15T00:00:00.000000000",
          "2020-12-20T00:00:00.000000000",
          "2020-11-09T00:00:00.000000000",
          "2020-01-25T00:00:00.000000000",
          "2019-11-01T00:00:00.000000000",
          "2019-10-01T00:00:00.000000000",
          "2019-09-05T00:00:00.000000000",
          "2019-08-06T00:00:00.000000000",
          "2019-07-26T00:00:00.000000000",
          "2019-07-19T00:00:00.000000000",
          "2019-07-13T00:00:00.000000000",
          "2019-07-06T00:00:00.000000000",
          "2019-05-15T00:00:00.000000000",
          "2019-04-30T00:00:00.000000000",
          "2019-03-26T00:00:00.000000000",
          "2019-01-29T00:00:00.000000000",
          "2018-12-21T00:00:00.000000000",
          "2018-10-03T00:00:00.000000000",
          "2018-08-20T00:00:00.000000000",
          "2018-07-26T00:00:00.000000000",
          "2018-06-25T00:00:00.000000000",
          "2018-05-19T00:00:00.000000000",
          "2018-05-16T00:00:00.000000000",
          "2017-12-16T00:00:00.000000000",
          "2017-11-23T00:00:00.000000000",
          "2016-12-24T00:00:00.000000000",
          "2016-11-20T00:00:00.000000000",
          "2016-10-20T00:00:00.000000000",
          "2016-09-07T00:00:00.000000000",
          "2016-09-01T00:00:00.000000000",
          "2016-08-04T00:00:00.000000000",
          "2016-06-29T00:00:00.000000000",
          "2016-05-07T00:00:00.000000000",
          "2016-03-29T00:00:00.000000000",
          "2016-02-08T00:00:00.000000000",
          "2016-01-08T00:00:00.000000000",
          "2015-12-07T00:00:00.000000000",
          "2015-11-07T00:00:00.000000000",
          "2015-10-22T00:00:00.000000000",
          "2015-09-05T00:00:00.000000000",
          "2015-08-03T00:00:00.000000000",
          "2015-01-04T00:00:00.000000000",
          "2014-11-30T00:00:00.000000000",
          "2014-10-26T00:00:00.000000000",
          "2014-09-22T00:00:00.000000000",
          "2014-06-14T00:00:00.000000000",
          "2013-11-19T00:00:00.000000000",
          "2013-10-26T00:00:00.000000000",
          "2013-08-10T00:00:00.000000000",
          "2013-05-13T00:00:00.000000000",
          "2013-04-09T00:00:00.000000000",
          "2013-01-06T00:00:00.000000000",
          "2012-08-31T00:00:00.000000000",
          "2012-08-01T00:00:00.000000000",
          "2012-03-11T00:00:00.000000000",
          "2011-12-24T00:00:00.000000000",
          "2011-11-18T00:00:00.000000000",
          "2011-09-17T00:00:00.000000000",
          "2011-09-05T00:00:00.000000000",
          "2011-05-09T00:00:00.000000000",
          "2011-02-19T00:00:00.000000000",
          "2010-11-26T00:00:00.000000000",
          "2010-10-23T00:00:00.000000000",
          "2010-05-07T00:00:00.000000000",
          "2010-03-16T00:00:00.000000000",
          "2010-01-04T00:00:00.000000000",
          "2009-11-19T00:00:00.000000000",
          "2009-10-17T00:00:00.000000000",
          "2009-03-06T00:00:00.000000000",
          "2009-01-05T00:00:00.000000000",
          "2008-11-20T00:00:00.000000000",
          "2008-07-03T00:00:00.000000000",
          "2008-05-31T00:00:00.000000000",
          "2008-04-18T00:00:00.000000000",
          "2007-12-12T00:00:00.000000000",
          "2007-11-13T00:00:00.000000000",
          "2007-09-01T00:00:00.000000000",
          "2007-08-02T00:00:00.000000000",
          "2007-06-21T00:00:00.000000000",
          "2007-05-10T00:00:00.000000000",
          "2007-03-31T00:00:00.000000000",
          "2006-08-28T00:00:00.000000000",
          "2006-08-18T00:00:00.000000000",
          "2006-07-03T00:00:00.000000000",
          "2006-06-27T00:00:00.000000000",
          "2006-06-06T00:00:00.000000000",
          "2006-05-11T00:00:00.000000000",
          "2006-04-12T00:00:00.000000000",
          "2006-02-28T00:00:00.000000000",
          "2005-09-23T00:00:00.000000000",
          "2005-07-20T00:00:00.000000000",
          "2005-06-23T00:00:00.000000000",
          "2005-05-01T00:00:00.000000000",
          "2005-03-31T00:00:00.000000000",
          "2004-05-17T00:00:00.000000000",
          "2002-09-23T00:00:00.000000000",
          "2002-07-31T00:00:00.000000000",
          "2002-05-25T00:00:00.000000000",
          "2002-04-09T00:00:00.000000000",
          "2002-03-17T00:00:00.000000000",
          "2002-03-10T00:00:00.000000000",
          "2002-03-05T00:00:00.000000000",
          "2002-01-18T00:00:00.000000000",
          "2001-12-05T00:00:00.000000000",
          "2001-11-09T00:00:00.000000000",
          "2001-09-07T00:00:00.000000000",
          "2001-07-22T00:00:00.000000000",
          "2001-04-24T00:00:00.000000000",
          "2000-11-19T00:00:00.000000000",
          "2000-10-27T00:00:00.000000000",
          "2000-07-19T00:00:00.000000000",
          "2000-07-03T00:00:00.000000000",
          "2000-06-05T00:00:00.000000000",
          "2000-05-10T00:00:00.000000000",
          "2000-04-05T00:00:00.000000000",
          "1999-07-21T00:00:00.000000000",
          "1999-06-11T00:00:00.000000000",
          "1999-05-13T00:00:00.000000000",
          "1999-04-15T00:00:00.000000000",
          "1999-03-28T00:00:00.000000000",
          "1998-07-25T00:00:00.000000000",
          "1997-10-09T00:00:00.000000000",
          "1997-09-27T00:00:00.000000000",
          "1997-09-14T00:00:00.000000000",
          "1997-08-01T00:00:00.000000000",
          "1995-10-27T00:00:00.000000000",
          "1995-09-22T00:00:00.000000000",
          "1994-09-10T00:00:00.000000000",
          "1994-06-27T00:00:00.000000000",
          "1994-04-24T00:00:00.000000000",
          "1993-12-04T00:00:00.000000000",
          "1993-10-10T00:00:00.000000000",
          "1993-08-10T00:00:00.000000000",
          "1993-07-02T00:00:00.000000000",
          "1993-05-19T00:00:00.000000000",
          "1993-03-25T00:00:00.000000000",
          "1993-02-04T00:00:00.000000000",
          "1992-12-13T00:00:00.000000000",
          "1992-10-22T00:00:00.000000000",
          "1992-09-18T00:00:00.000000000",
          "1992-08-23T00:00:00.000000000",
          "1992-07-11T00:00:00.000000000",
          "1992-05-20T00:00:00.000000000",
          "1992-04-16T00:00:00.000000000"
         ],
         "hovertemplate": "<b>%{hovertext}</b><br><br>depart_port_fullname=Punta Arenas, Chile<br>depart_date=%{base}<br>arrive_date=%{x}<br>arrive_port_fullname=%{y}<extra></extra>",
         "hovertext": [
          "NBP2205",
          "NBP2202",
          "NBP2113",
          "NBP2101",
          "NBP2010",
          "NBP2002",
          "NBP1910",
          "NBP1909",
          "NBP1908",
          "NBP1907",
          "NBP1906",
          "NBP1905C",
          "NBP1905B",
          "NBP1905A",
          "NBP1904B",
          "NBP1904",
          "NBP1903",
          "NBP1902",
          "NBP1901",
          "NBP1808",
          "NBP1807",
          "NBP1806",
          "NBP1805",
          "NBP1804",
          "NBP1803",
          "NBP1801",
          "NBP1709",
          "NBP1701",
          "NBP1610",
          "NBP1609",
          "NBP1608",
          "NBP1607",
          "NBP1606",
          "NBP1605",
          "NBP1604",
          "NBP1603",
          "NBP1602",
          "NBP1601",
          "NBP1511",
          "NBP1510",
          "NBP1509",
          "NBP1508",
          "NBP1507",
          "NBP1501",
          "NBP1410",
          "NBP1409",
          "NBP1408",
          "NBP1406",
          "NBP1310",
          "NBP1310A",
          "NBP1309",
          "NBP1304",
          "NBP1303",
          "NBP1210",
          "NBP1208",
          "NBP1207",
          "NBP1203",
          "NBP1201",
          "NBP1107",
          "NBP1105",
          "NBP1104A",
          "NBP1103",
          "NBP1102",
          "NBP1005",
          "NBP1004",
          "NBP1003",
          "NBP1002",
          "NBP1001",
          "NBP0908",
          "NBP0906",
          "NBP0902",
          "NBP0901",
          "NBP0812",
          "NBP0808",
          "NBP0806",
          "NBP0805",
          "NBP0711",
          "NBP0710",
          "NBP0709",
          "NBP0708",
          "NBP0705",
          "NBP0704",
          "NBP0703",
          "NBP0607A",
          "NBP0607",
          "NBP0606",
          "NBP0605",
          "NBP0604",
          "NBP0603A",
          "NBP0603",
          "NBP0602A",
          "NBP0507",
          "NBP0506",
          "NBP0505",
          "NBP0503",
          "NBP0502",
          "NBP0404",
          "NBP0205",
          "NBP0204",
          "NBP0203",
          "NBP0202",
          "NBP0201C",
          "NBP0201B",
          "NBP0201A",
          "NBP0201",
          "NBP0107",
          "NBP0106",
          "NBP0105",
          "NBP0104",
          "NBP0103",
          "NBP0007B",
          "NBP0007A",
          "NBP0006A",
          "NBP0005",
          "NBP0004",
          "NBP0003",
          "NBP0002",
          "NBP9907",
          "NBP9906",
          "NBP9905",
          "NBP9904",
          "NBP9903",
          "NBP9805",
          "NBP9707",
          "NBP9706B",
          "NBP9706A",
          "NBP9705",
          "NBP9507",
          "NBP9506",
          "NBP9405",
          "NBP9404",
          "NBP9403",
          "NBP9307",
          "NBP9306",
          "NBP9305",
          "NBP9304",
          "NBP9303",
          "NBP9302",
          "NBP9301",
          "NBP9208",
          "NBP9207",
          "NBP9206",
          "NBP9205",
          "NBP9204",
          "NBP9202",
          "NBP9201"
         ],
         "legendgroup": "Punta Arenas, Chile",
         "marker": {
          "color": "#ab63fa",
          "pattern": {
           "shape": ""
          }
         },
         "name": "Punta Arenas, Chile",
         "orientation": "h",
         "showlegend": true,
         "textposition": "auto",
         "type": "bar",
         "x": [
          3283200000,
          5270400000,
          3196800000,
          1641600000,
          3110400000,
          5443200000,
          3801600000,
          2246400000,
          2160000000,
          2505600000,
          864000000,
          518400000,
          518400000,
          604800000,
          691200000,
          1209600000,
          2937600000,
          4752000000,
          2851200000,
          6048000000,
          4320000000,
          2073600000,
          2592000000,
          3110400000,
          172800000,
          6652800000,
          1382400000,
          2332800000,
          2246400000,
          2246400000,
          3196800000,
          432000000,
          2332800000,
          2419200000,
          4233600000,
          2764800000,
          3715200000,
          2246400000,
          2419200000,
          2246400000,
          1296000000,
          4147200000,
          2419200000,
          1382400000,
          2592000000,
          7430400000,
          2592000000,
          5356800000,
          1209600000,
          1555200000,
          2678400000,
          2592000000,
          2592000000,
          2937600000,
          432000000,
          1382400000,
          3369600000,
          4233600000,
          1987200000,
          4147200000,
          518400000,
          2851200000,
          5443200000,
          4406400000,
          1987200000,
          3024000000,
          3974400000,
          4838400000,
          2592000000,
          2332800000,
          3369600000,
          4492800000,
          1987200000,
          2764800000,
          2592000000,
          3196800000,
          1987200000,
          2073600000,
          5184000000,
          2160000000,
          345600000,
          3542400000,
          2937600000,
          2160000000,
          777600000,
          3715200000,
          432000000,
          1728000000,
          1814400000,
          2073600000,
          3110400000,
          2419200000,
          5184000000,
          1814400000,
          4233600000,
          1987200000,
          5270400000,
          2246400000,
          4233600000,
          5184000000,
          3628800000,
          1900800000,
          518400000,
          345600000,
          3888000000,
          3369600000,
          1814400000,
          4233600000,
          3456000000,
          3715200000,
          2419200000,
          1900800000,
          2073600000,
          1036800000,
          1641600000,
          1900800000,
          2678400000,
          432000000,
          3024000000,
          2073600000,
          2160000000,
          1209600000,
          2160000000,
          1641600000,
          604800000,
          864000000,
          3110400000,
          3628800000,
          2592000000,
          3456000000,
          5011200000,
          345600000,
          3888000000,
          2764800000,
          4406400000,
          2937600000,
          3628800000,
          4406400000,
          3801600000,
          4060800000,
          3628800000,
          2419200000,
          1814400000,
          3196800000,
          2851200000,
          2592000000
         ],
         "xaxis": "x",
         "y": [
          "Punta Arenas, Chile",
          "Punta Arenas, Chile",
          "Punta Arenas, Chile",
          "Punta Arenas, Chile",
          "Punta Arenas, Chile",
          "Punta Arenas, Chile",
          "Punta Arenas, Chile",
          "Punta Arenas, Chile",
          "Punta Arenas, Chile",
          "Punta Arenas, Chile",
          "Punta Arenas, Chile",
          "Punta Arenas, Chile",
          "Punta Arenas, Chile",
          "Punta Arenas, Chile",
          "Punta Arenas, Chile",
          "Punta Arenas, Chile",
          "Punta Arenas, Chile",
          "Punta Arenas, Chile",
          "Punta Arenas, Chile",
          "Punta Arenas, Chile",
          "Punta Arenas, Chile",
          "Punta Arenas, Chile",
          "Punta Arenas, Chile",
          "Punta Arenas, Chile",
          "Punta Arenas, Chile",
          "Hobart, Australia",
          "Punta Arenas, Chile",
          "McMurdo Station, Antarctica",
          "Punta Arenas, Chile",
          "Punta Arenas, Chile",
          "Punta Arenas, Chile",
          "Punta Arenas, Chile",
          "Punta Arenas, Chile",
          "Punta Arenas, Chile",
          "Punta Arenas, Chile",
          "Punta Arenas, Chile",
          "Punta Arenas, Chile",
          "Punta Arenas, Chile",
          "Punta Arenas, Chile",
          "Punta Arenas, Chile",
          "Punta Arenas, Chile",
          "Punta Arenas, Chile",
          "Punta Arenas, Chile",
          "McMurdo Station, Antarctica",
          "Punta Arenas, Chile",
          "McMurdo Station, Antarctica",
          "Punta Arenas, Chile",
          "Punta Arenas, Chile",
          "Rothera Station, Antarctica",
          "Punta Arenas, Chile",
          "Punta Arenas, Chile",
          "Punta Arenas, Chile",
          "Punta Arenas, Chile",
          "Punta Arenas, Chile",
          "Punta Arenas, Chile",
          "Punta Arenas, Chile",
          "Punta Arenas, Chile",
          "McMurdo Station, Antarctica",
          "Punta Arenas, Chile",
          "Punta Arenas, Chile",
          "Punta Arenas, Chile",
          "Punta Arenas, Chile",
          "McMurdo Station, Antarctica",
          "McMurdo Station, Antarctica",
          "Punta Arenas, Chile",
          "Punta Arenas, Chile",
          "Punta Arenas, Chile",
          "Punta Arenas, Chile",
          "Punta Arenas, Chile",
          "Punta Arenas, Chile",
          "Punta Arenas, Chile",
          "Punta Arenas, Chile",
          "Punta Arenas, Chile",
          "Punta Arenas, Chile",
          "Punta Arenas, Chile",
          "Punta Arenas, Chile",
          "Lyttelton, New Zealand",
          "Punta Arenas, Chile",
          "Punta Arenas, Chile",
          "Punta Arenas, Chile",
          "Talcahuano, Chile",
          "Punta Arenas, Chile",
          "Punta Arenas, Chile",
          "Lyttelton, New Zealand",
          "Punta Arenas, Chile",
          "Punta Arenas, Chile",
          "Punta Arenas, Chile",
          "Punta Arenas, Chile",
          "Punta Arenas, Chile",
          "Punta Arenas, Chile",
          "Punta Arenas, Chile",
          "Lyttelton, New Zealand",
          "Punta Arenas, Chile",
          "Punta Arenas, Chile",
          "Punta Arenas, Chile",
          "Punta Arenas, Chile",
          "Cape Town, South Africa",
          "San Francisco, California",
          "Punta Arenas, Chile",
          "Punta Arenas, Chile",
          "Punta Arenas, Chile",
          "Punta Arenas, Chile",
          "Punta Arenas, Chile",
          "Punta Arenas, Chile",
          "Punta Arenas, Chile",
          "Punta Arenas, Chile",
          "Punta Arenas, Chile",
          "Punta Arenas, Chile",
          "Punta Arenas, Chile",
          "Punta Arenas, Chile",
          "Hobart, Australia",
          "Punta Arenas, Chile",
          "Fourchon, Louisiana",
          "Punta Arenas, Chile",
          "Punta Arenas, Chile",
          "Punta Arenas, Chile",
          "Punta Arenas, Chile",
          "Talcahuano, Chile",
          "Punta Arenas, Chile",
          "Punta Arenas, Chile",
          "Punta Arenas, Chile",
          "Punta Arenas, Chile",
          "Seattle, Washington",
          "Lyttelton, New Zealand",
          "Punta Arenas, Chile",
          "Punta Arenas, Chile",
          "Punta Arenas, Chile",
          "Lyttelton, New Zealand",
          "Punta Arenas, Chile",
          "Auckland, New Zealand",
          "Punta Arenas, Chile",
          "Punta Arenas, Chile",
          "McMurdo Station, Antarctica",
          "Punta Arenas, Chile",
          "Punta Arenas, Chile",
          "Punta Arenas, Chile",
          "Punta Arenas, Chile",
          "Punta Arenas, Chile",
          "Punta Arenas, Chile",
          "Punta Arenas, Chile",
          "Punta Arenas, Chile",
          "Punta Arenas, Chile",
          "Punta Arenas, Chile",
          "Punta Arenas, Chile",
          "Punta Arenas, Chile",
          "Punta Arenas, Chile"
         ],
         "yaxis": "y"
        },
        {
         "base": [
          "2020-10-08T00:00:00.000000000",
          "2002-11-10T00:00:00.000000000"
         ],
         "hovertemplate": "<b>%{hovertext}</b><br><br>depart_port_fullname=Port Hueneme, California<br>depart_date=%{base}<br>arrive_date=%{x}<br>arrive_port_fullname=%{y}<extra></extra>",
         "hovertext": [
          "NBP2009",
          "NBP0207"
         ],
         "legendgroup": "Port Hueneme, California",
         "marker": {
          "color": "#FFA15A",
          "pattern": {
           "shape": ""
          }
         },
         "name": "Port Hueneme, California",
         "orientation": "h",
         "showlegend": true,
         "textposition": "auto",
         "type": "bar",
         "x": [
          2160000000,
          2246400000
         ],
         "xaxis": "x",
         "y": [
          "Punta Arenas, Chile",
          "Lyttelton, New Zealand"
         ],
         "yaxis": "y"
        },
        {
         "base": [
          "2018-03-09T00:00:00.000000000",
          "2015-05-06T00:00:00.000000000",
          "2015-03-24T00:00:00.000000000",
          "2014-03-20T00:00:00.000000000",
          "2014-01-29T00:00:00.000000000",
          "2001-01-30T00:00:00.000000000",
          "2000-12-20T00:00:00.000000000",
          "1996-08-19T00:00:00.000000000",
          "1995-05-02T00:00:00.000000000"
         ],
         "hovertemplate": "<b>%{hovertext}</b><br><br>depart_port_fullname=Hobart, Australia<br>depart_date=%{base}<br>arrive_date=%{x}<br>arrive_port_fullname=%{y}<extra></extra>",
         "hovertext": [
          "NBP1802",
          "NBP1504",
          "NBP1503",
          "NBP1403",
          "NBP1402",
          "NBP0101",
          "NBP0008",
          "NBP9603A",
          "NBP9503"
         ],
         "legendgroup": "Hobart, Australia",
         "marker": {
          "color": "#19d3f3",
          "pattern": {
           "shape": ""
          }
         },
         "name": "Hobart, Australia",
         "orientation": "h",
         "showlegend": true,
         "textposition": "auto",
         "type": "bar",
         "x": [
          5702400000,
          2160000000,
          3456000000,
          3974400000,
          3974400000,
          4924800000,
          3110400000,
          518400000,
          4320000000
         ],
         "xaxis": "x",
         "y": [
          "Punta Arenas, Chile",
          "Punta Arenas, Chile",
          "Hobart, Australia",
          "Papeete, French Polynesia",
          "Hobart, Australia",
          "Cape Town, South Africa",
          "Hobart, Australia",
          "Lyttelton, New Zealand",
          "Lyttelton, New Zealand"
         ],
         "yaxis": "y"
        },
        {
         "base": [
          "2017-08-20T00:00:00.000000000",
          "2014-05-07T00:00:00.000000000"
         ],
         "hovertemplate": "<b>%{hovertext}</b><br><br>depart_port_fullname=Papeete, French Polynesia<br>depart_date=%{base}<br>arrive_date=%{x}<br>arrive_port_fullname=%{y}<extra></extra>",
         "hovertext": [
          "NBP1707",
          "NBP1404"
         ],
         "legendgroup": "Papeete, French Polynesia",
         "marker": {
          "color": "#FF6692",
          "pattern": {
           "shape": ""
          }
         },
         "name": "Papeete, French Polynesia",
         "orientation": "h",
         "showlegend": true,
         "textposition": "auto",
         "type": "bar",
         "x": [
          3542400000,
          1555200000
         ],
         "xaxis": "x",
         "y": [
          "Valparaiso, Chile",
          "Talcahuano, Chile"
         ],
         "yaxis": "y"
        },
        {
         "base": [
          "2017-07-03T00:00:00.000000000"
         ],
         "hovertemplate": "<b>%{hovertext}</b><br><br>depart_port_fullname=Sydney, Australia<br>depart_date=%{base}<br>arrive_date=%{x}<br>arrive_port_fullname=%{y}<extra></extra>",
         "hovertext": [
          "NBP1706"
         ],
         "legendgroup": "Sydney, Australia",
         "marker": {
          "color": "#B6E880",
          "pattern": {
           "shape": ""
          }
         },
         "name": "Sydney, Australia",
         "orientation": "h",
         "showlegend": true,
         "textposition": "auto",
         "type": "bar",
         "x": [
          3888000000
         ],
         "xaxis": "x",
         "y": [
          "Papeete, French Polynesia"
         ],
         "yaxis": "y"
        },
        {
         "base": [
          "2014-06-14T00:00:00.000000000",
          "2009-10-08T00:00:00.000000000",
          "2007-07-28T00:00:00.000000000",
          "2007-06-25T00:00:00.000000000",
          "1999-08-17T00:00:00.000000000",
          "1997-07-20T00:00:00.000000000"
         ],
         "hovertemplate": "<b>%{hovertext}</b><br><br>depart_port_fullname=Talcahuano, Chile<br>depart_date=%{base}<br>arrive_date=%{x}<br>arrive_port_fullname=%{y}<extra></extra>",
         "hovertext": [
          "NBP1405",
          "NBP0905A",
          "NBP0707",
          "NBP0706",
          "NBP9908",
          "NBP9704B"
         ],
         "legendgroup": "Talcahuano, Chile",
         "marker": {
          "color": "#FF97FF",
          "pattern": {
           "shape": ""
          }
         },
         "name": "Talcahuano, Chile",
         "orientation": "h",
         "showlegend": true,
         "textposition": "auto",
         "type": "bar",
         "x": [
          777600000,
          777600000,
          432000000,
          2851200000,
          1900800000,
          432000000
         ],
         "xaxis": "x",
         "y": [
          "Punta Arenas, Chile",
          "Punta Arenas, Chile",
          "Punta Arenas, Chile",
          "Talcahuano, Chile",
          "Lyttelton, New Zealand",
          "Punta Arenas, Chile"
         ],
         "yaxis": "y"
        },
        {
         "base": [
          "2013-12-03T00:00:00.000000000"
         ],
         "hovertemplate": "<b>%{hovertext}</b><br><br>depart_port_fullname=Rothera Station, Antarctica<br>depart_date=%{base}<br>arrive_date=%{x}<br>arrive_port_fullname=%{y}<extra></extra>",
         "hovertext": [
          "NBP1310B"
         ],
         "legendgroup": "Rothera Station, Antarctica",
         "marker": {
          "color": "#FECB52",
          "pattern": {
           "shape": ""
          }
         },
         "name": "Rothera Station, Antarctica",
         "orientation": "h",
         "showlegend": true,
         "textposition": "auto",
         "type": "bar",
         "x": [
          4406400000
         ],
         "xaxis": "x",
         "y": [
          "Hobart, Australia"
         ],
         "yaxis": "y"
        },
        {
         "base": [
          "2013-06-24T00:00:00.000000000"
         ],
         "hovertemplate": "<b>%{hovertext}</b><br><br>depart_port_fullname=Valparaiso, Chile<br>depart_date=%{base}<br>arrive_date=%{x}<br>arrive_port_fullname=%{y}<extra></extra>",
         "hovertext": [
          "NBP1305"
         ],
         "legendgroup": "Valparaiso, Chile",
         "marker": {
          "color": "#636efa",
          "pattern": {
           "shape": ""
          }
         },
         "name": "Valparaiso, Chile",
         "orientation": "h",
         "showlegend": true,
         "textposition": "auto",
         "type": "bar",
         "x": [
          2851200000
         ],
         "xaxis": "x",
         "y": [
          "Valparaiso, Chile"
         ],
         "yaxis": "y"
        },
        {
         "base": [
          "2009-09-12T00:00:00.000000000",
          "2009-05-03T00:00:00.000000000"
         ],
         "hovertemplate": "<b>%{hovertext}</b><br><br>depart_port_fullname=Puerto Montt, Chile<br>depart_date=%{base}<br>arrive_date=%{x}<br>arrive_port_fullname=%{y}<extra></extra>",
         "hovertext": [
          "NBP0905",
          "NBP0903"
         ],
         "legendgroup": "Puerto Montt, Chile",
         "marker": {
          "color": "#EF553B",
          "pattern": {
           "shape": ""
          }
         },
         "name": "Puerto Montt, Chile",
         "orientation": "h",
         "showlegend": true,
         "textposition": "auto",
         "type": "bar",
         "x": [
          172800000,
          11404800000
         ],
         "xaxis": "x",
         "y": [
          "Talcahuano, Chile",
          "Puerto Montt, Chile"
         ],
         "yaxis": "y"
        },
        {
         "base": [
          "2004-07-27T00:00:00.000000000",
          "2004-07-22T00:00:00.000000000",
          "2001-04-01T00:00:00.000000000",
          "1996-05-03T00:00:00.000000000"
         ],
         "hovertemplate": "<b>%{hovertext}</b><br><br>depart_port_fullname=Cape Town, South Africa<br>depart_date=%{base}<br>arrive_date=%{x}<br>arrive_port_fullname=%{y}<extra></extra>",
         "hovertext": [
          "NBP0406",
          "NBP0405",
          "NBP0102",
          "NBP9603"
         ],
         "legendgroup": "Cape Town, South Africa",
         "marker": {
          "color": "#00cc96",
          "pattern": {
           "shape": ""
          }
         },
         "name": "Cape Town, South Africa",
         "orientation": "h",
         "showlegend": true,
         "textposition": "auto",
         "type": "bar",
         "x": [
          2851200000,
          345600000,
          1468800000,
          5356800000
         ],
         "xaxis": "x",
         "y": [
          "Lyttelton, New Zealand",
          "Cape Town, South Africa",
          "Punta Arenas, Chile",
          "Hobart, Australia"
         ],
         "yaxis": "y"
        },
        {
         "base": [
          "2003-09-14T00:00:00.000000000",
          "1998-10-03T00:00:00.000000000",
          "1998-09-19T00:00:00.000000000"
         ],
         "hovertemplate": "<b>%{hovertext}</b><br><br>depart_port_fullname=Honolulu, Hawaii<br>depart_date=%{base}<br>arrive_date=%{x}<br>arrive_port_fullname=%{y}<extra></extra>",
         "hovertext": [
          "NBP0304C",
          "NBP9806A",
          "NBP9806"
         ],
         "legendgroup": "Honolulu, Hawaii",
         "marker": {
          "color": "#ab63fa",
          "pattern": {
           "shape": ""
          }
         },
         "name": "Honolulu, Hawaii",
         "orientation": "h",
         "showlegend": true,
         "textposition": "auto",
         "type": "bar",
         "x": {
          "_inputArray": {
           "0": 2073600000,
           "1": 864000000,
           "2": 864000000,
           "bdata": "AKCYewCYfzMAmH8z",
           "dtype": "i4",
           "shape": "3"
          },
          "bdata": "AKCYewCYfzMAmH8z",
          "dtype": "i4"
         },
         "xaxis": "x",
         "y": [
          "Napier, New Zealand",
          "Apia, Samoa",
          "Honolulu, Hawaii"
         ],
         "yaxis": "y"
        },
        {
         "base": [
          "2003-08-22T00:00:00.000000000"
         ],
         "hovertemplate": "<b>%{hovertext}</b><br><br>depart_port_fullname=Barrow, Alaska<br>depart_date=%{base}<br>arrive_date=%{x}<br>arrive_port_fullname=%{y}<extra></extra>",
         "hovertext": [
          "NBP0304BCD"
         ],
         "legendgroup": "Barrow, Alaska",
         "marker": {
          "color": "#FFA15A",
          "pattern": {
           "shape": ""
          }
         },
         "name": "Barrow, Alaska",
         "orientation": "h",
         "showlegend": true,
         "textposition": "auto",
         "type": "bar",
         "x": [
          4579200000
         ],
         "xaxis": "x",
         "y": [
          "Lyttelton, New Zealand"
         ],
         "yaxis": "y"
        },
        {
         "base": [
          "2003-07-05T00:00:00.000000000"
         ],
         "hovertemplate": "<b>%{hovertext}</b><br><br>depart_port_fullname=Dutch Harbor, Alaska<br>depart_date=%{base}<br>arrive_date=%{x}<br>arrive_port_fullname=%{y}<extra></extra>",
         "hovertext": [
          "NBP0304A"
         ],
         "legendgroup": "Dutch Harbor, Alaska",
         "marker": {
          "color": "#19d3f3",
          "pattern": {
           "shape": ""
          }
         },
         "name": "Dutch Harbor, Alaska",
         "orientation": "h",
         "showlegend": true,
         "textposition": "auto",
         "type": "bar",
         "x": [
          3801600000
         ],
         "xaxis": "x",
         "y": [
          "Barrow, Alaska"
         ],
         "yaxis": "y"
        },
        {
         "base": [
          "2002-11-03T00:00:00.000000000"
         ],
         "hovertemplate": "<b>%{hovertext}</b><br><br>depart_port_fullname=Los Angeles, California<br>depart_date=%{base}<br>arrive_date=%{x}<br>arrive_port_fullname=%{y}<extra></extra>",
         "hovertext": [
          "NBP0206A"
         ],
         "legendgroup": "Los Angeles, California",
         "marker": {
          "color": "#FF6692",
          "pattern": {
           "shape": ""
          }
         },
         "name": "Los Angeles, California",
         "orientation": "h",
         "showlegend": true,
         "textposition": "auto",
         "type": "bar",
         "x": {
          "_inputArray": {
           "0": 432000000,
           "bdata": "AMy/GQ==",
           "dtype": "i4",
           "shape": "1"
          },
          "bdata": "AMy/GQ==",
          "dtype": "i4"
         },
         "xaxis": "x",
         "y": [
          "Port Hueneme, California"
         ],
         "yaxis": "y"
        },
        {
         "base": [
          "2002-10-29T00:00:00.000000000",
          "2002-10-19T00:00:00.000000000"
         ],
         "hovertemplate": "<b>%{hovertext}</b><br><br>depart_port_fullname=San Francisco, California<br>depart_date=%{base}<br>arrive_date=%{x}<br>arrive_port_fullname=%{y}<extra></extra>",
         "hovertext": [
          "NBP0206",
          "NBP0205A"
         ],
         "legendgroup": "San Francisco, California",
         "marker": {
          "color": "#B6E880",
          "pattern": {
           "shape": ""
          }
         },
         "name": "San Francisco, California",
         "orientation": "h",
         "showlegend": true,
         "textposition": "auto",
         "type": "bar",
         "x": {
          "_inputArray": {
           "0": 432000000,
           "1": 777600000,
           "bdata": "AMy/GQA8WS4=",
           "dtype": "i4",
           "shape": "2"
          },
          "bdata": "AMy/GQA8WS4=",
          "dtype": "i4"
         },
         "xaxis": "x",
         "y": [
          "Los Angeles, California",
          "San Francisco, California"
         ],
         "yaxis": "y"
        },
        {
         "base": [
          "2000-10-05T00:00:00.000000000"
         ],
         "hovertemplate": "<b>%{hovertext}</b><br><br>depart_port_fullname=Balboa, Panama<br>depart_date=%{base}<br>arrive_date=%{x}<br>arrive_port_fullname=%{y}<extra></extra>",
         "hovertext": [
          "NBP0006D"
         ],
         "legendgroup": "Balboa, Panama",
         "marker": {
          "color": "#FF97FF",
          "pattern": {
           "shape": ""
          }
         },
         "name": "Balboa, Panama",
         "orientation": "h",
         "showlegend": true,
         "textposition": "auto",
         "type": "bar",
         "x": {
          "_inputArray": {
           "0": 1468800000,
           "bdata": "AByMVw==",
           "dtype": "i4",
           "shape": "1"
          },
          "bdata": "AByMVw==",
          "dtype": "i4"
         },
         "xaxis": "x",
         "y": [
          "Punta Arenas, Chile"
         ],
         "yaxis": "y"
        },
        {
         "base": [
          "2000-09-25T00:00:00.000000000",
          "2000-09-03T00:00:00.000000000"
         ],
         "hovertemplate": "<b>%{hovertext}</b><br><br>depart_port_fullname=Fourchon, Louisiana<br>depart_date=%{base}<br>arrive_date=%{x}<br>arrive_port_fullname=%{y}<extra></extra>",
         "hovertext": [
          "NBP0006C",
          "NBP0006B"
         ],
         "legendgroup": "Fourchon, Louisiana",
         "marker": {
          "color": "#FECB52",
          "pattern": {
           "shape": ""
          }
         },
         "name": "Fourchon, Louisiana",
         "orientation": "h",
         "showlegend": true,
         "textposition": "auto",
         "type": "bar",
         "x": {
          "_inputArray": {
           "0": 777600000,
           "1": 604800000,
           "bdata": "ADxZLgCEDCQ=",
           "dtype": "i4",
           "shape": "2"
          },
          "bdata": "ADxZLgCEDCQ=",
          "dtype": "i4"
         },
         "xaxis": "x",
         "y": [
          "Balboa, Panama",
          "Fourchon, Louisiana"
         ],
         "yaxis": "y"
        },
        {
         "base": [
          "1998-10-13T00:00:00.000000000"
         ],
         "hovertemplate": "<b>%{hovertext}</b><br><br>depart_port_fullname=Apia, Samoa<br>depart_date=%{base}<br>arrive_date=%{x}<br>arrive_port_fullname=%{y}<extra></extra>",
         "hovertext": [
          "NBP9806B"
         ],
         "legendgroup": "Apia, Samoa",
         "marker": {
          "color": "#636efa",
          "pattern": {
           "shape": ""
          }
         },
         "name": "Apia, Samoa",
         "orientation": "h",
         "showlegend": true,
         "textposition": "auto",
         "type": "bar",
         "x": {
          "_inputArray": {
           "0": 1123200000,
           "bdata": "AKzyQg==",
           "dtype": "i4",
           "shape": "1"
          },
          "bdata": "AKzyQg==",
          "dtype": "i4"
         },
         "xaxis": "x",
         "y": [
          "Lyttelton, New Zealand"
         ],
         "yaxis": "y"
        },
        {
         "base": [
          "1997-05-20T00:00:00.000000000"
         ],
         "hovertemplate": "<b>%{hovertext}</b><br><br>depart_port_fullname=Auckland, New Zealand<br>depart_date=%{base}<br>arrive_date=%{x}<br>arrive_port_fullname=%{y}<extra></extra>",
         "hovertext": [
          "NBP9704A"
         ],
         "legendgroup": "Auckland, New Zealand",
         "marker": {
          "color": "#EF553B",
          "pattern": {
           "shape": ""
          }
         },
         "name": "Auckland, New Zealand",
         "orientation": "h",
         "showlegend": true,
         "textposition": "auto",
         "type": "bar",
         "x": {
          "_inputArray": {
           "0": 1555200000,
           "bdata": "AHiyXA==",
           "dtype": "i4",
           "shape": "1"
          },
          "bdata": "AHiyXA==",
          "dtype": "i4"
         },
         "xaxis": "x",
         "y": [
          "Talcahuano, Chile"
         ],
         "yaxis": "y"
        }
       ],
       "layout": {
        "autosize": true,
        "barmode": "overlay",
        "legend": {
         "title": {
          "text": "depart_port_fullname"
         },
         "tracegroupgap": 0
        },
        "template": {
         "data": {
          "bar": [
           {
            "error_x": {
             "color": "#2a3f5f"
            },
            "error_y": {
             "color": "#2a3f5f"
            },
            "marker": {
             "line": {
              "color": "#E5ECF6",
              "width": 0.5
             },
             "pattern": {
              "fillmode": "overlay",
              "size": 10,
              "solidity": 0.2
             }
            },
            "type": "bar"
           }
          ],
          "barpolar": [
           {
            "marker": {
             "line": {
              "color": "#E5ECF6",
              "width": 0.5
             },
             "pattern": {
              "fillmode": "overlay",
              "size": 10,
              "solidity": 0.2
             }
            },
            "type": "barpolar"
           }
          ],
          "carpet": [
           {
            "aaxis": {
             "endlinecolor": "#2a3f5f",
             "gridcolor": "white",
             "linecolor": "white",
             "minorgridcolor": "white",
             "startlinecolor": "#2a3f5f"
            },
            "baxis": {
             "endlinecolor": "#2a3f5f",
             "gridcolor": "white",
             "linecolor": "white",
             "minorgridcolor": "white",
             "startlinecolor": "#2a3f5f"
            },
            "type": "carpet"
           }
          ],
          "choropleth": [
           {
            "colorbar": {
             "outlinewidth": 0,
             "ticks": ""
            },
            "type": "choropleth"
           }
          ],
          "contour": [
           {
            "colorbar": {
             "outlinewidth": 0,
             "ticks": ""
            },
            "colorscale": [
             [
              0,
              "#0d0887"
             ],
             [
              0.1111111111111111,
              "#46039f"
             ],
             [
              0.2222222222222222,
              "#7201a8"
             ],
             [
              0.3333333333333333,
              "#9c179e"
             ],
             [
              0.4444444444444444,
              "#bd3786"
             ],
             [
              0.5555555555555556,
              "#d8576b"
             ],
             [
              0.6666666666666666,
              "#ed7953"
             ],
             [
              0.7777777777777778,
              "#fb9f3a"
             ],
             [
              0.8888888888888888,
              "#fdca26"
             ],
             [
              1,
              "#f0f921"
             ]
            ],
            "type": "contour"
           }
          ],
          "contourcarpet": [
           {
            "colorbar": {
             "outlinewidth": 0,
             "ticks": ""
            },
            "type": "contourcarpet"
           }
          ],
          "heatmap": [
           {
            "colorbar": {
             "outlinewidth": 0,
             "ticks": ""
            },
            "colorscale": [
             [
              0,
              "#0d0887"
             ],
             [
              0.1111111111111111,
              "#46039f"
             ],
             [
              0.2222222222222222,
              "#7201a8"
             ],
             [
              0.3333333333333333,
              "#9c179e"
             ],
             [
              0.4444444444444444,
              "#bd3786"
             ],
             [
              0.5555555555555556,
              "#d8576b"
             ],
             [
              0.6666666666666666,
              "#ed7953"
             ],
             [
              0.7777777777777778,
              "#fb9f3a"
             ],
             [
              0.8888888888888888,
              "#fdca26"
             ],
             [
              1,
              "#f0f921"
             ]
            ],
            "type": "heatmap"
           }
          ],
          "histogram": [
           {
            "marker": {
             "pattern": {
              "fillmode": "overlay",
              "size": 10,
              "solidity": 0.2
             }
            },
            "type": "histogram"
           }
          ],
          "histogram2d": [
           {
            "colorbar": {
             "outlinewidth": 0,
             "ticks": ""
            },
            "colorscale": [
             [
              0,
              "#0d0887"
             ],
             [
              0.1111111111111111,
              "#46039f"
             ],
             [
              0.2222222222222222,
              "#7201a8"
             ],
             [
              0.3333333333333333,
              "#9c179e"
             ],
             [
              0.4444444444444444,
              "#bd3786"
             ],
             [
              0.5555555555555556,
              "#d8576b"
             ],
             [
              0.6666666666666666,
              "#ed7953"
             ],
             [
              0.7777777777777778,
              "#fb9f3a"
             ],
             [
              0.8888888888888888,
              "#fdca26"
             ],
             [
              1,
              "#f0f921"
             ]
            ],
            "type": "histogram2d"
           }
          ],
          "histogram2dcontour": [
           {
            "colorbar": {
             "outlinewidth": 0,
             "ticks": ""
            },
            "colorscale": [
             [
              0,
              "#0d0887"
             ],
             [
              0.1111111111111111,
              "#46039f"
             ],
             [
              0.2222222222222222,
              "#7201a8"
             ],
             [
              0.3333333333333333,
              "#9c179e"
             ],
             [
              0.4444444444444444,
              "#bd3786"
             ],
             [
              0.5555555555555556,
              "#d8576b"
             ],
             [
              0.6666666666666666,
              "#ed7953"
             ],
             [
              0.7777777777777778,
              "#fb9f3a"
             ],
             [
              0.8888888888888888,
              "#fdca26"
             ],
             [
              1,
              "#f0f921"
             ]
            ],
            "type": "histogram2dcontour"
           }
          ],
          "mesh3d": [
           {
            "colorbar": {
             "outlinewidth": 0,
             "ticks": ""
            },
            "type": "mesh3d"
           }
          ],
          "parcoords": [
           {
            "line": {
             "colorbar": {
              "outlinewidth": 0,
              "ticks": ""
             }
            },
            "type": "parcoords"
           }
          ],
          "pie": [
           {
            "automargin": true,
            "type": "pie"
           }
          ],
          "scatter": [
           {
            "fillpattern": {
             "fillmode": "overlay",
             "size": 10,
             "solidity": 0.2
            },
            "type": "scatter"
           }
          ],
          "scatter3d": [
           {
            "line": {
             "colorbar": {
              "outlinewidth": 0,
              "ticks": ""
             }
            },
            "marker": {
             "colorbar": {
              "outlinewidth": 0,
              "ticks": ""
             }
            },
            "type": "scatter3d"
           }
          ],
          "scattercarpet": [
           {
            "marker": {
             "colorbar": {
              "outlinewidth": 0,
              "ticks": ""
             }
            },
            "type": "scattercarpet"
           }
          ],
          "scattergeo": [
           {
            "marker": {
             "colorbar": {
              "outlinewidth": 0,
              "ticks": ""
             }
            },
            "type": "scattergeo"
           }
          ],
          "scattergl": [
           {
            "marker": {
             "colorbar": {
              "outlinewidth": 0,
              "ticks": ""
             }
            },
            "type": "scattergl"
           }
          ],
          "scattermap": [
           {
            "marker": {
             "colorbar": {
              "outlinewidth": 0,
              "ticks": ""
             }
            },
            "type": "scattermap"
           }
          ],
          "scattermapbox": [
           {
            "marker": {
             "colorbar": {
              "outlinewidth": 0,
              "ticks": ""
             }
            },
            "type": "scattermapbox"
           }
          ],
          "scatterpolar": [
           {
            "marker": {
             "colorbar": {
              "outlinewidth": 0,
              "ticks": ""
             }
            },
            "type": "scatterpolar"
           }
          ],
          "scatterpolargl": [
           {
            "marker": {
             "colorbar": {
              "outlinewidth": 0,
              "ticks": ""
             }
            },
            "type": "scatterpolargl"
           }
          ],
          "scatterternary": [
           {
            "marker": {
             "colorbar": {
              "outlinewidth": 0,
              "ticks": ""
             }
            },
            "type": "scatterternary"
           }
          ],
          "surface": [
           {
            "colorbar": {
             "outlinewidth": 0,
             "ticks": ""
            },
            "colorscale": [
             [
              0,
              "#0d0887"
             ],
             [
              0.1111111111111111,
              "#46039f"
             ],
             [
              0.2222222222222222,
              "#7201a8"
             ],
             [
              0.3333333333333333,
              "#9c179e"
             ],
             [
              0.4444444444444444,
              "#bd3786"
             ],
             [
              0.5555555555555556,
              "#d8576b"
             ],
             [
              0.6666666666666666,
              "#ed7953"
             ],
             [
              0.7777777777777778,
              "#fb9f3a"
             ],
             [
              0.8888888888888888,
              "#fdca26"
             ],
             [
              1,
              "#f0f921"
             ]
            ],
            "type": "surface"
           }
          ],
          "table": [
           {
            "cells": {
             "fill": {
              "color": "#EBF0F8"
             },
             "line": {
              "color": "white"
             }
            },
            "header": {
             "fill": {
              "color": "#C8D4E3"
             },
             "line": {
              "color": "white"
             }
            },
            "type": "table"
           }
          ]
         },
         "layout": {
          "annotationdefaults": {
           "arrowcolor": "#2a3f5f",
           "arrowhead": 0,
           "arrowwidth": 1
          },
          "autotypenumbers": "strict",
          "coloraxis": {
           "colorbar": {
            "outlinewidth": 0,
            "ticks": ""
           }
          },
          "colorscale": {
           "diverging": [
            [
             0,
             "#8e0152"
            ],
            [
             0.1,
             "#c51b7d"
            ],
            [
             0.2,
             "#de77ae"
            ],
            [
             0.3,
             "#f1b6da"
            ],
            [
             0.4,
             "#fde0ef"
            ],
            [
             0.5,
             "#f7f7f7"
            ],
            [
             0.6,
             "#e6f5d0"
            ],
            [
             0.7,
             "#b8e186"
            ],
            [
             0.8,
             "#7fbc41"
            ],
            [
             0.9,
             "#4d9221"
            ],
            [
             1,
             "#276419"
            ]
           ],
           "sequential": [
            [
             0,
             "#0d0887"
            ],
            [
             0.1111111111111111,
             "#46039f"
            ],
            [
             0.2222222222222222,
             "#7201a8"
            ],
            [
             0.3333333333333333,
             "#9c179e"
            ],
            [
             0.4444444444444444,
             "#bd3786"
            ],
            [
             0.5555555555555556,
             "#d8576b"
            ],
            [
             0.6666666666666666,
             "#ed7953"
            ],
            [
             0.7777777777777778,
             "#fb9f3a"
            ],
            [
             0.8888888888888888,
             "#fdca26"
            ],
            [
             1,
             "#f0f921"
            ]
           ],
           "sequentialminus": [
            [
             0,
             "#0d0887"
            ],
            [
             0.1111111111111111,
             "#46039f"
            ],
            [
             0.2222222222222222,
             "#7201a8"
            ],
            [
             0.3333333333333333,
             "#9c179e"
            ],
            [
             0.4444444444444444,
             "#bd3786"
            ],
            [
             0.5555555555555556,
             "#d8576b"
            ],
            [
             0.6666666666666666,
             "#ed7953"
            ],
            [
             0.7777777777777778,
             "#fb9f3a"
            ],
            [
             0.8888888888888888,
             "#fdca26"
            ],
            [
             1,
             "#f0f921"
            ]
           ]
          },
          "colorway": [
           "#636efa",
           "#EF553B",
           "#00cc96",
           "#ab63fa",
           "#FFA15A",
           "#19d3f3",
           "#FF6692",
           "#B6E880",
           "#FF97FF",
           "#FECB52"
          ],
          "font": {
           "color": "#2a3f5f"
          },
          "geo": {
           "bgcolor": "white",
           "lakecolor": "white",
           "landcolor": "#E5ECF6",
           "showlakes": true,
           "showland": true,
           "subunitcolor": "white"
          },
          "hoverlabel": {
           "align": "left"
          },
          "hovermode": "closest",
          "mapbox": {
           "style": "light"
          },
          "paper_bgcolor": "white",
          "plot_bgcolor": "#E5ECF6",
          "polar": {
           "angularaxis": {
            "gridcolor": "white",
            "linecolor": "white",
            "ticks": ""
           },
           "bgcolor": "#E5ECF6",
           "radialaxis": {
            "gridcolor": "white",
            "linecolor": "white",
            "ticks": ""
           }
          },
          "scene": {
           "xaxis": {
            "backgroundcolor": "#E5ECF6",
            "gridcolor": "white",
            "gridwidth": 2,
            "linecolor": "white",
            "showbackground": true,
            "ticks": "",
            "zerolinecolor": "white"
           },
           "yaxis": {
            "backgroundcolor": "#E5ECF6",
            "gridcolor": "white",
            "gridwidth": 2,
            "linecolor": "white",
            "showbackground": true,
            "ticks": "",
            "zerolinecolor": "white"
           },
           "zaxis": {
            "backgroundcolor": "#E5ECF6",
            "gridcolor": "white",
            "gridwidth": 2,
            "linecolor": "white",
            "showbackground": true,
            "ticks": "",
            "zerolinecolor": "white"
           }
          },
          "shapedefaults": {
           "line": {
            "color": "#2a3f5f"
           }
          },
          "ternary": {
           "aaxis": {
            "gridcolor": "white",
            "linecolor": "white",
            "ticks": ""
           },
           "baxis": {
            "gridcolor": "white",
            "linecolor": "white",
            "ticks": ""
           },
           "bgcolor": "#E5ECF6",
           "caxis": {
            "gridcolor": "white",
            "linecolor": "white",
            "ticks": ""
           }
          },
          "title": {
           "x": 0.05
          },
          "xaxis": {
           "automargin": true,
           "gridcolor": "white",
           "linecolor": "white",
           "ticks": "",
           "title": {
            "standoff": 15
           },
           "zerolinecolor": "white",
           "zerolinewidth": 2
          },
          "yaxis": {
           "automargin": true,
           "gridcolor": "white",
           "linecolor": "white",
           "ticks": "",
           "title": {
            "standoff": 15
           },
           "zerolinecolor": "white",
           "zerolinewidth": 2
          }
         }
        },
        "title": {
         "text": "Palmer Cruises"
        },
        "xaxis": {
         "anchor": "y",
         "autorange": true,
         "domain": [
          0,
          1
         ],
         "range": [
          "1990-07-23",
          "2025-03-21"
         ],
         "type": "date"
        },
        "yaxis": {
         "anchor": "x",
         "autorange": true,
         "domain": [
          0,
          1
         ],
         "range": [
          22.5,
          -0.5
         ],
         "title": {
          "text": "arrive_port_fullname"
         },
         "type": "category"
        }
       }
      },
      "image/png": "[encoded data removed]"
     },
     "metadata": {},
     "output_type": "display_data"
    }
   ],
   "source": [
    "# mdf[mdf.has_r2rnav == False].is_retrieved\n",
    "import plotly.express as px\n",
    "title = \"Palmer Cruises\"\n",
    "\n",
    "url = r2r.get_r2r_url(vessel_name = \"Palmer\")\n",
    "mdf = r2r.get_cruise_metadata(url)\n",
    "\n",
    "fig = px.timeline(\n",
    "    mdf,\n",
    "    x_start=\"depart_date\",\n",
    "    x_end=\"arrive_date\",\n",
    "    y=\"arrive_port_fullname\",  # This will be the label for each bar on the y-axis\n",
    "    color=\"depart_port_fullname\", # You can color by the same ID or another categorical column\n",
    "    title=title,\n",
    "    # Other optional arguments:\n",
    "    hover_name=\"cruise_id\", # Show more info on hover\n",
    "    # text=\"label_on_bar\", # Text directly on the bar\n",
    "    # facet_row=\"some_category\", # For breaking down by a category\n",
    "    # template=\"plotly_white\" # or \"plotly_dark\", \"ggplot2\", \"seaborn\", etc.\n",
    ")\n",
    "\n",
    "# You might want to sort the y-axis (tasks) for better readability\n",
    "fig.update_yaxes(autorange=\"reversed\") # To display the first task at the top\n",
    "\n",
    "fig.show()\n",
    "fig.write_html(\"Palmer Cruises.html\")"
   ]
  }
 ],
 "metadata": {
  "kernelspec": {
   "display_name": "Python 3 (ipykernel)",
   "language": "python",
   "name": "python3"
  },
  "language_info": {
   "codemirror_mode": {
    "name": "ipython",
    "version": 3
   },
   "file_extension": ".py",
   "mimetype": "text/x-python",
   "name": "python",
   "nbconvert_exporter": "python",
   "pygments_lexer": "ipython3",
   "version": "3.9.1"
  }
 },
 "nbformat": 4,
 "nbformat_minor": 5
}
